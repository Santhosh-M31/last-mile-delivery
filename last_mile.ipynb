{
 "cells": [
  {
   "cell_type": "code",
   "execution_count": null,
   "id": "5caabcee-deac-4549-83c7-8665b0b9568f",
   "metadata": {},
   "outputs": [],
   "source": [
    "from k_means_constrained import KMeansConstrained\n",
    "import pandas as pd\n",
    "import geopandas\n",
    "import numpy as np\n",
    "import os\n",
    "import openrouteservice as ors"
   ]
  },
  {
   "cell_type": "code",
   "execution_count": null,
   "id": "5249e157-0861-4da4-b3c0-7c1331de7e1c",
   "metadata": {},
   "outputs": [],
   "source": [
    "# Get your ORS \n",
    "passcode = ' '"
   ]
  },
  {
   "cell_type": "code",
   "execution_count": null,
   "id": "63c0259c-f8c6-4f3b-bcc7-15a3c87b46f0",
   "metadata": {},
   "outputs": [],
   "source": [
    "folder = 'demo'\n",
    "file = 'location.xlsx'\n",
    "path_excel = os.path.join(folder, file)\n",
    "df = pd.read_excel(path_excel)"
   ]
  },
  {
   "cell_type": "code",
   "execution_count": null,
   "id": "de8663cc-57c9-4999-8f88-504f11bc7af1",
   "metadata": {},
   "outputs": [],
   "source": [
    "# Setting the cluster minimum and maximum size\n",
    "min_size = 15\n",
    "max_size = 18\n",
    "\n",
    "# Finding the total delivery points, clustering algorithm accept only X and Y value in numpy format\n",
    "# Hence extracting the latitude and longitude information and converting the DataFrame as numpy.  \n",
    "latlon = df[['Longitude', 'Latitude']].to_numpy()\n",
    "total = latlon.shape[0]\n",
    "\n",
    "# Finding the maximum total cluster. \n",
    "total_clusters = int(total/max_size) + 1\n",
    "\n",
    "clusters = KMeansConstrained(n_clusters=total_clusters,\n",
    "                               size_min=min_size, \n",
    "                               size_max=max_size,\n",
    "                              random_state=0)\n",
    "clusters_values  = clusters.fit_predict(latlon)\n"
   ]
  },
  {
   "cell_type": "code",
   "execution_count": null,
   "id": "7350110f-be10-40f4-a5e3-331ba5ca32c6",
   "metadata": {},
   "outputs": [],
   "source": [
    "# write cluster numbers to GeoDataFrame\n",
    "\n",
    "df['cluster'] = clusters_values\n",
    "\n",
    "# Create a new column return and set it to true 1. \n",
    "# Dispatcher can modify this based on his needs. \n",
    "\n",
    "df['toWH'] = 1\n",
    "\n",
    "# Create GeoDataFrame\n",
    "gdf = geopandas.GeoDataFrame(df, geometry=geopandas.points_from_xy(df.Longitude, df.Latitude))\n",
    "\n",
    "\n",
    "# Write the GeoDataFrame as GeoPackage. \n",
    "folder = 'demo'\n",
    "file = 'clusters.gpkg'\n",
    "path_gpkg = os.path.join(folder, file)\n",
    "gdf.to_file(path_gpkg, layer='locations', driver=\"GPKG\")"
   ]
  },
  {
   "cell_type": "code",
   "execution_count": null,
   "id": "b8ad17ac-2fe8-48a3-9b14-cb590b524eb0",
   "metadata": {},
   "outputs": [],
   "source": [
    "#warehouse\n",
    "\n",
    "wh = [lon,lat]\n",
    "\n",
    "def route_optimize(cluster):\n",
    "    vehicles = []\n",
    "    deliveries = []\n",
    "    cluster_df = df[df['cluster']==cluster]\n",
    "\n",
    "    return_condition = list(cluster_df['toWH'])[0]\n",
    "\n",
    "    for delivery in cluster_df.itertuples():\n",
    "            deliveries.append(ors.optimization.Job(id=delivery.Index, location=[delivery.Longitude, delivery.Latitude]))\n",
    "    \n",
    "    # Set vechile condition based on the return condition \n",
    "    if return_condition:\n",
    "        vehicles.append(ors.optimization.Vehicle(id=0,start=list(wh), end=list(wh)))\n",
    "    else:\n",
    "        vehicles.append(ors.optimization.Vehicle(id=0,start=list(wh)))\n",
    "    \n",
    "    ors_client = ors.Client(key=passcode)\n",
    "    result = ors_client.optimization(jobs=deliveries, vehicles=vehicles, geometry=True)\n",
    "    \n",
    "    li = result['routes'][0]['steps']\n",
    "    li2 = []\n",
    "    for n, x in enumerate(li):\n",
    "        lon = x['location'][0]\n",
    "        lat = x['location'][1]\n",
    "        li2.append([n, lat, lon])\n",
    "        \n",
    "    order_df = pd.DataFrame(li2, columns=['order', 'lon', 'lat'])\n",
    "    \n",
    "    file_name = 'route_' + str(int(return_condition)) + '.xlsx'\n",
    "    path_excel = os.path.join(folder, file_name)\n",
    "    order_df.to_excel(path_excel)\n",
    "    return path_excel"
   ]
  },
  {
   "cell_type": "code",
   "execution_count": null,
   "id": "5efcc0f6-1cdf-40ae-a110-acbfa466ce1c",
   "metadata": {},
   "outputs": [],
   "source": [
    "df = geopandas.read_file(path_gpkg, layer='locations')\n",
    "\n",
    "#Get total clusters\n",
    "total_cluster =  list(df['cluster'].unique())\n",
    "\n",
    "for z in total_cluster:\n",
    "    print(route_optimize(z), ' file written successfully')"
   ]
  }
 ],
 "metadata": {
  "kernelspec": {
   "display_name": "Python 3",
   "language": "python",
   "name": "python3"
  },
  "language_info": {
   "codemirror_mode": {
    "name": "ipython",
    "version": 3
   },
   "file_extension": ".py",
   "mimetype": "text/x-python",
   "name": "python",
   "nbconvert_exporter": "python",
   "pygments_lexer": "ipython3",
   "version": "3.8.8"
  }
 },
 "nbformat": 4,
 "nbformat_minor": 5
}
